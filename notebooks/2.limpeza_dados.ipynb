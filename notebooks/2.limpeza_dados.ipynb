{
 "cells": [
  {
   "cell_type": "markdown",
   "metadata": {
    "id": "5C_GJrm8yPL9"
   },
   "source": [
    "<h1 align=\"center\">\n",
    "🧹 Limpeza Catálogo de Teses e Dissertações <br/>\n",
    "<img src=\"https://dadosabertos.capes.gov.br/img/caixa.png\"  alt=\"Dados Capes\"/>\n",
    "</h1>\n",
    "\n",
    "Em nosso conjunto de dados possuímos informações sobre teses e dissertações defendidas no período de 1987-2023. No notebook de [download de metadados](notebooks/1.obter_catalogos.ipynb), realizamos o download e junção de todos os conjuntos.\n",
    "\n",
    "Desejamos extrair informações e estatísticas sobre o conteúdo das teses e dissertações, para isso utilizamos a coluna `resumo`. \n",
    "\n",
    "Com base no resumo, gostaríamos de responder algumas perguntas sobre os dados, tais como:\n",
    "\n",
    "- quais são os assuntos mais presentes em uma grande área de conhecimento? E em uma área de conhecimento?\n",
    "- quais são os assuntos mais abordados em cada período de tempo?\n",
    "- os assuntos desses trabalhos são diferentes em cada região? E em nível de estadual ou nível de universidade?\n",
    "\n",
    "Entretanto para que isso seja possível, precisamos verificar se não houve erro de preenchimento ou valores faltantes. Assim realizaremos uma limpeza de dados nas colunas referentes a essas informações.\n",
    "\n"
   ]
  },
  {
   "cell_type": "code",
   "execution_count": null,
   "metadata": {
    "id": "pXVVtkOrqNRP"
   },
   "outputs": [],
   "source": [
    "import pandas as pd\n",
    "import matplotlib.pyplot as plt\n",
    "from pathlib import Path\n",
    "from tqdm.auto import tqdm\n",
    "\n",
    "tqdm.pandas()"
   ]
  },
  {
   "cell_type": "markdown",
   "metadata": {
    "id": "SojsDgsbpdUM"
   },
   "source": [
    "## Seleção das colunas de interesse"
   ]
  },
  {
   "cell_type": "code",
   "execution_count": null,
   "metadata": {},
   "outputs": [],
   "source": [
    "workdir = Path(\"../..\")\n",
    "df = pd.read_parquet(workdir / \"data\" / \"catalogo-de-teses-e-dissertacoes.parquet\")"
   ]
  },
  {
   "cell_type": "markdown",
   "metadata": {
    "id": "4pt-UFOPrISK"
   },
   "source": [
    "Dentre as colunas de interesse selecionamos:\n",
    "\n",
    "- ano_base\n",
    "- resumo\n",
    "- nome_grande_area\n",
    "- nome_area_conhecimento\n",
    "- regiao\n",
    "- sigla_uf\n",
    "- sigla_entidade_ensino"
   ]
  },
  {
   "cell_type": "code",
   "execution_count": null,
   "metadata": {
    "colab": {
     "base_uri": "https://localhost:8080/",
     "height": 206
    },
    "id": "CSDLFwwmrURR",
    "outputId": "a4bba6e1-f58e-4fb2-aebd-35e41895c104"
   },
   "outputs": [],
   "source": [
    "df = df.loc[\n",
    "    :,\n",
    "    [\n",
    "        \"AN_BASE\",\n",
    "        \"DS_RESUMO\",\n",
    "        \"NM_PRODUCAO\",\n",
    "        \"NM_GRANDE_AREA_CONHECIMENTO\",\n",
    "        \"NM_AREA_CONHECIMENTO\",\n",
    "        \"NM_REGIAO\",\n",
    "        \"SG_UF_IES\",\n",
    "        \"SG_ENTIDADE_ENSINO\",\n",
    "    ],\n",
    "]\n",
    "\n",
    "df.head()"
   ]
  },
  {
   "cell_type": "code",
   "execution_count": null,
   "metadata": {
    "colab": {
     "base_uri": "https://localhost:8080/"
    },
    "id": "sfsglNZsr7Uq",
    "outputId": "a9b562a9-6ce9-45dd-8b51-427a6e733ad8"
   },
   "outputs": [],
   "source": [
    "df.info()"
   ]
  },
  {
   "cell_type": "markdown",
   "metadata": {
    "id": "_mH5btj0rupS"
   },
   "source": [
    "Podemos perceber que há palavras não acentuadas nos textos de 1987. Também notamos que há valores não preenchidos na coluna de resumo, como a nossa análise a considera, desconsideramos as linhas onde `resumo` é nulo."
   ]
  },
  {
   "cell_type": "code",
   "execution_count": null,
   "metadata": {
    "colab": {
     "base_uri": "https://localhost:8080/"
    },
    "id": "Okf5CqNhrr0k",
    "outputId": "075af186-6feb-43ca-f11d-e0d5e77aec3e"
   },
   "outputs": [],
   "source": [
    "df = df.dropna(subset=[\"DS_RESUMO\"])\n",
    "df.info()"
   ]
  },
  {
   "cell_type": "markdown",
   "metadata": {
    "id": "G7EiD3rRykPe"
   },
   "source": [
    "Por fim removemos as linhas duplicadas cadastradas em nosso *dataset*.\n",
    "\n"
   ]
  },
  {
   "cell_type": "code",
   "execution_count": null,
   "metadata": {
    "colab": {
     "base_uri": "https://localhost:8080/"
    },
    "id": "haK6zBc1yqyO",
    "outputId": "ef4ab074-4145-4e61-e0e4-bf5af004c494"
   },
   "outputs": [],
   "source": [
    "df = df.drop_duplicates()\n",
    "df.info()"
   ]
  },
  {
   "cell_type": "markdown",
   "metadata": {
    "id": "6NiMUzyKs7Vy"
   },
   "source": [
    "## Limpeza do Resumo"
   ]
  },
  {
   "cell_type": "markdown",
   "metadata": {
    "id": "nKJUvYRN0Om4"
   },
   "source": [
    "Analisamos nosso dataset em busca de textos sem valor para nossa análise buscando por resumos com menos de 60 caracteres. Mas antes disso realizamos uma padronização nos resumos, deixando-os em caixa baixa, removendo números e pontuações."
   ]
  },
  {
   "cell_type": "code",
   "execution_count": null,
   "metadata": {},
   "outputs": [],
   "source": [
    "# Criamos uma coluna adicional com o propósito de facilitar a filtragem de resumos não relevantes\n",
    "df[\"DS_RESUMO_CLEANED\"] = (\n",
    "    df[\"DS_RESUMO\"]\n",
    "    .str.lower()\n",
    "    .str.replace(r\"[^\\w\\s]+\", \" \", regex=True)  # mantém apenas letras e números\n",
    "    .str.replace(r\"\\d+\", \" \", regex=True)  # remove números\n",
    "    .str.replace(r\"\\s+\", \" \", regex=True)  # remove excesso de espaços\n",
    "    .str.strip()\n",
    ")"
   ]
  },
  {
   "cell_type": "code",
   "execution_count": null,
   "metadata": {
    "id": "-6S7_boo8nUf"
   },
   "outputs": [],
   "source": [
    "for index, _ in (\n",
    "    df[df[\"DS_RESUMO_CLEANED\"].str.len() < 60][\"DS_RESUMO_CLEANED\"]\n",
    "    .value_counts()\n",
    "    .items()\n",
    "):\n",
    "    print(index)"
   ]
  },
  {
   "cell_type": "markdown",
   "metadata": {
    "id": "OPGDwVHiALrI"
   },
   "source": [
    "Podemos notar que a maioria das sentenças com até 60 caracteres há informações sobre o status da entrega da dissertação, sequências de letras ou palavras sem sentido como \"iiiiiiiiiiiiii\", \"hnjkm l ç\". Portanto, optamos por remover colunas com menos de 60 caracteres."
   ]
  },
  {
   "cell_type": "code",
   "execution_count": null,
   "metadata": {
    "colab": {
     "base_uri": "https://localhost:8080/"
    },
    "id": "XrCJU5bo-O4e",
    "outputId": "5ced71ad-01c7-40d4-f7f1-c01ce1492716"
   },
   "outputs": [],
   "source": [
    "df = df[df[\"DS_RESUMO_CLEANED\"].str.len() > 60]\n",
    "df.info()"
   ]
  },
  {
   "cell_type": "markdown",
   "metadata": {},
   "source": [
    "Usamos como base a norma da ABNT  [ABNT NBR 6028](http://plone.ufpb.br/secretariado/contents/documentos/2021_ABNT6028Resumo.pdf) para contar as palavras do resumo. \n",
    "\n",
    "\n",
    "**4.1.8 Quanto à sua extensão, convém que os resumos tenham:**\n",
    "1. 150 a 500 palavras nos trabalhos acadêmicos e relatórios técnicos e/ou científicos;\n",
    "2. 100 a 250 palavras nos artigos de periódicos;\n",
    "3. 50 a 100 palavras nos documentos não contemplados nas alíneas anteriores.\n"
   ]
  },
  {
   "cell_type": "code",
   "execution_count": null,
   "metadata": {},
   "outputs": [],
   "source": [
    "df[\"WC\"] = df[\"DS_RESUMO_CLEANED\"].str.split().str.len()"
   ]
  },
  {
   "cell_type": "code",
   "execution_count": null,
   "metadata": {},
   "outputs": [],
   "source": [
    "df[\"WC\"].describe(percentiles=[0.01, 0.1, 0.25, 0.5, 0.75, 0.9, 0.99]).round(2)"
   ]
  },
  {
   "cell_type": "code",
   "execution_count": null,
   "metadata": {},
   "outputs": [],
   "source": [
    "ax = df[\"WC\"].plot.hist(bins=100, alpha=0.5)\n",
    "ax.set_xlabel(\"Número de palavras\")\n",
    "ax.set_ylabel(\"Número de resumos\")\n",
    "ax.set_title(\"Histograma do número de palavras nos resumos\")\n",
    "ax.grid()\n",
    "plt.show()"
   ]
  },
  {
   "cell_type": "markdown",
   "metadata": {},
   "source": [
    "Menos de 1% dos resumos tem até 46 palavras, abaixo selecionamos os resumos com até 25 palavras para análise."
   ]
  },
  {
   "cell_type": "code",
   "execution_count": null,
   "metadata": {},
   "outputs": [],
   "source": [
    "# listar resumos com menos de 10 palavras\n",
    "for index, row in df[df[\"WC\"] < 25][\"DS_RESUMO_CLEANED\"].items():\n",
    "    print(index, row)"
   ]
  },
  {
   "cell_type": "markdown",
   "metadata": {},
   "source": [
    "Vemos que resumos com até 25 palavras são semelhantes a títulos de trabalhos, como \"análise ergonômica da tarefa como instrumento de reprojeto de atividades para gestão do conhecimento um estudo de caso\"  ou \"abelhas africanizadas na cidade de são paulo uma abirdagem epidemiológica\". Como a norma da ABNT sugere que resumos tenham entre 150 a 500 palavras, optamos por remover os resumos com até 25 palavras."
   ]
  },
  {
   "cell_type": "code",
   "execution_count": null,
   "metadata": {},
   "outputs": [],
   "source": [
    "# remover resumos com menos de 10 palavras\n",
    "df = df[df[\"WC\"] >= 25]\n",
    "\n",
    "df.shape"
   ]
  },
  {
   "cell_type": "markdown",
   "metadata": {},
   "source": [
    "Por fim, realizamos a contagem de palavras que consideramos válidas em cada resumo, para isso usamos embeddings de palavras em português."
   ]
  },
  {
   "cell_type": "code",
   "execution_count": null,
   "metadata": {},
   "outputs": [],
   "source": [
    "%%bash\n",
    "\n",
    "wget -c http://143.107.183.175:22980/download.php?file=embeddings/word2vec/cbow_s100.zip -O cbow_s100.zip\n",
    "unzip cbow_s100.zip -d embeddings"
   ]
  },
  {
   "cell_type": "code",
   "execution_count": null,
   "metadata": {},
   "outputs": [],
   "source": [
    "import gensim\n",
    "\n",
    "model = gensim.models.KeyedVectors.load_word2vec_format(\n",
    "    \"embeddings/cbow_s100.txt\", binary=False\n",
    ")"
   ]
  },
  {
   "cell_type": "code",
   "execution_count": null,
   "metadata": {},
   "outputs": [],
   "source": [
    "def count_oov(text):\n",
    "    return sum(1 for word in text if word not in model)\n",
    "\n",
    "\n",
    "df[\"OOV\"] = df[\"DS_RESUMO_CLEANED\"].str.lower().str.split().progress_apply(count_oov)\n",
    "df[\"OOV_RATE\"] = df[\"OOV\"] / df[\"WC\"]"
   ]
  },
  {
   "cell_type": "code",
   "execution_count": null,
   "metadata": {},
   "outputs": [],
   "source": [
    "df[\"OOV_RATE\"].describe(percentiles=[0.9, 0.99, 0.999, 0.9999]).round(2)"
   ]
  },
  {
   "cell_type": "code",
   "execution_count": null,
   "metadata": {},
   "outputs": [],
   "source": [
    "for index, row in df[df[\"OOV_RATE\"] > 0.35][\"DS_RESUMO_CLEANED\"].items():\n",
    "    print(index, row)\n",
    "    print()\n",
    "    print(\"--\" * 50)"
   ]
  },
  {
   "cell_type": "code",
   "execution_count": null,
   "metadata": {},
   "outputs": [],
   "source": [
    "df = df[df[\"OOV_RATE\"] <= 0.35]\n",
    "df.shape"
   ]
  },
  {
   "cell_type": "markdown",
   "metadata": {
    "id": "x50OcH3L4ObQ"
   },
   "source": [
    "Por fim, removemos as linhas onde o resumo se repete.\n",
    "\n"
   ]
  },
  {
   "cell_type": "code",
   "execution_count": null,
   "metadata": {},
   "outputs": [],
   "source": [
    "df.columns"
   ]
  },
  {
   "cell_type": "code",
   "execution_count": null,
   "metadata": {
    "colab": {
     "base_uri": "https://localhost:8080/"
    },
    "id": "YMBGhftn4cqg",
    "outputId": "8898d68a-0449-4bfb-c818-8e0ef559c16b"
   },
   "outputs": [],
   "source": [
    "df = df.drop_duplicates(subset=[\"DS_RESUMO\", \"NM_PRODUCAO\"])\n",
    "df.info()"
   ]
  },
  {
   "cell_type": "markdown",
   "metadata": {
    "id": "If0jNAADjdmc"
   },
   "source": [
    "## Limpeza nas demais colunas\n",
    "\n",
    "Primeiro verificamos se há inconsistência nas demais colunas do dataset."
   ]
  },
  {
   "cell_type": "code",
   "execution_count": null,
   "metadata": {
    "colab": {
     "base_uri": "https://localhost:8080/"
    },
    "id": "VFqSAbWpjnpy",
    "outputId": "bf0dc008-e744-4338-bd8b-3a071d39420d"
   },
   "outputs": [],
   "source": [
    "df[\"AN_BASE\"].unique()"
   ]
  },
  {
   "cell_type": "code",
   "execution_count": null,
   "metadata": {
    "colab": {
     "base_uri": "https://localhost:8080/"
    },
    "id": "gtkGkkOXj1lP",
    "outputId": "5ea8bd8d-8852-4b9f-adb0-12bfdb2e23de"
   },
   "outputs": [],
   "source": [
    "df[\"NM_GRANDE_AREA_CONHECIMENTO\"].unique()"
   ]
  },
  {
   "cell_type": "code",
   "execution_count": null,
   "metadata": {
    "colab": {
     "base_uri": "https://localhost:8080/"
    },
    "id": "VrKEgNcbj4FK",
    "outputId": "2fe10b7c-bfab-4493-8fc1-506934ea1f58"
   },
   "outputs": [],
   "source": [
    "df[\"NM_AREA_CONHECIMENTO\"].unique()"
   ]
  },
  {
   "cell_type": "code",
   "execution_count": null,
   "metadata": {
    "colab": {
     "base_uri": "https://localhost:8080/"
    },
    "id": "YZMsK--ij8aL",
    "outputId": "3d0fc8b6-fc94-494b-e542-3800e23f69e6"
   },
   "outputs": [],
   "source": [
    "df[\"NM_REGIAO\"].unique()"
   ]
  },
  {
   "cell_type": "code",
   "execution_count": null,
   "metadata": {
    "colab": {
     "base_uri": "https://localhost:8080/"
    },
    "id": "QDPrlCVQkNsm",
    "outputId": "4a14cc11-6be4-4c99-86eb-9bf6b29be54e"
   },
   "outputs": [],
   "source": [
    "df[\"SG_UF_IES\"].unique()"
   ]
  },
  {
   "cell_type": "code",
   "execution_count": null,
   "metadata": {
    "colab": {
     "base_uri": "https://localhost:8080/"
    },
    "id": "G8j7o0KK58AV",
    "outputId": "6ba316d5-8cef-4bd0-ddb5-980e4e905490"
   },
   "outputs": [],
   "source": [
    "df[\"SG_ENTIDADE_ENSINO\"].unique()"
   ]
  },
  {
   "cell_type": "markdown",
   "metadata": {
    "id": "Mp_DHIbI6BSl"
   },
   "source": [
    "## Salvando dados\n",
    "Como não encontramos inconsistências nas demais colunas finalizamos a nossa análise e portanto salvamos o novo conjunto de dados."
   ]
  },
  {
   "cell_type": "code",
   "execution_count": null,
   "metadata": {
    "id": "GaGUB4_06Ibf"
   },
   "outputs": [],
   "source": [
    "df.to_parquet(workdir / \"data\" / \"catalogo-de-teses-e-dissertacoes-limpo.parquet\")"
   ]
  }
 ],
 "metadata": {
  "colab": {
   "collapsed_sections": [
    "SojsDgsbpdUM",
    "6NiMUzyKs7Vy",
    "If0jNAADjdmc",
    "Mp_DHIbI6BSl"
   ],
   "name": "2-limpeza_ dados.ipynb",
   "provenance": []
  },
  "kernelspec": {
   "display_name": "Python 3",
   "name": "python3"
  },
  "language_info": {
   "codemirror_mode": {
    "name": "ipython",
    "version": 3
   },
   "file_extension": ".py",
   "mimetype": "text/x-python",
   "name": "python",
   "nbconvert_exporter": "python",
   "pygments_lexer": "ipython3",
   "version": "3.11.8"
  }
 },
 "nbformat": 4,
 "nbformat_minor": 0
}
